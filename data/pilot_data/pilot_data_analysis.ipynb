{
 "cells": [
  {
   "attachments": {},
   "cell_type": "markdown",
   "metadata": {},
   "source": [
    "# Pilot data analysis\n",
    "\n",
    "In this pilot dataset, we have 4 participants with two sessions, varying distractor prevalence 0.9 and 0.5. "
   ]
  },
  {
   "cell_type": "code",
   "execution_count": 1,
   "metadata": {},
   "outputs": [
    {
     "data": {
      "text/html": [
       "<div>\n",
       "<style scoped>\n",
       "    .dataframe tbody tr th:only-of-type {\n",
       "        vertical-align: middle;\n",
       "    }\n",
       "\n",
       "    .dataframe tbody tr th {\n",
       "        vertical-align: top;\n",
       "    }\n",
       "\n",
       "    .dataframe thead th {\n",
       "        text-align: right;\n",
       "    }\n",
       "</style>\n",
       "<table border=\"1\" class=\"dataframe\">\n",
       "  <thead>\n",
       "    <tr style=\"text-align: right;\">\n",
       "      <th></th>\n",
       "      <th>pos1</th>\n",
       "      <th>pos2</th>\n",
       "      <th>pos3</th>\n",
       "      <th>pos4</th>\n",
       "      <th>pos5</th>\n",
       "      <th>pos6</th>\n",
       "      <th>shape1</th>\n",
       "      <th>shape2</th>\n",
       "      <th>shape3</th>\n",
       "      <th>shape4</th>\n",
       "      <th>...</th>\n",
       "      <th>end_key.rt</th>\n",
       "      <th>participant</th>\n",
       "      <th>session</th>\n",
       "      <th>distractor_prevalence</th>\n",
       "      <th>validity</th>\n",
       "      <th>date</th>\n",
       "      <th>expName</th>\n",
       "      <th>psychopyVersion</th>\n",
       "      <th>frameRate</th>\n",
       "      <th>Unnamed: 35</th>\n",
       "    </tr>\n",
       "  </thead>\n",
       "  <tbody>\n",
       "    <tr>\n",
       "      <th>0</th>\n",
       "      <td>5.0</td>\n",
       "      <td>4.0</td>\n",
       "      <td>2.0</td>\n",
       "      <td>3.0</td>\n",
       "      <td>1.0</td>\n",
       "      <td>0.0</td>\n",
       "      <td>4.0</td>\n",
       "      <td>5.0</td>\n",
       "      <td>3.0</td>\n",
       "      <td>0.0</td>\n",
       "      <td>...</td>\n",
       "      <td>NaN</td>\n",
       "      <td>pil_001</td>\n",
       "      <td>1</td>\n",
       "      <td>0.5</td>\n",
       "      <td>1.0</td>\n",
       "      <td>2023-03-22_11h50.44.873</td>\n",
       "      <td>stress</td>\n",
       "      <td>2023.1.0</td>\n",
       "      <td>60.019975</td>\n",
       "      <td>NaN</td>\n",
       "    </tr>\n",
       "    <tr>\n",
       "      <th>1</th>\n",
       "      <td>5.0</td>\n",
       "      <td>0.0</td>\n",
       "      <td>3.0</td>\n",
       "      <td>1.0</td>\n",
       "      <td>4.0</td>\n",
       "      <td>2.0</td>\n",
       "      <td>4.0</td>\n",
       "      <td>6.0</td>\n",
       "      <td>5.0</td>\n",
       "      <td>0.0</td>\n",
       "      <td>...</td>\n",
       "      <td>NaN</td>\n",
       "      <td>pil_001</td>\n",
       "      <td>1</td>\n",
       "      <td>0.5</td>\n",
       "      <td>1.0</td>\n",
       "      <td>2023-03-22_11h50.44.873</td>\n",
       "      <td>stress</td>\n",
       "      <td>2023.1.0</td>\n",
       "      <td>60.019975</td>\n",
       "      <td>NaN</td>\n",
       "    </tr>\n",
       "    <tr>\n",
       "      <th>2</th>\n",
       "      <td>5.0</td>\n",
       "      <td>4.0</td>\n",
       "      <td>1.0</td>\n",
       "      <td>0.0</td>\n",
       "      <td>3.0</td>\n",
       "      <td>2.0</td>\n",
       "      <td>4.0</td>\n",
       "      <td>6.0</td>\n",
       "      <td>0.0</td>\n",
       "      <td>5.0</td>\n",
       "      <td>...</td>\n",
       "      <td>NaN</td>\n",
       "      <td>pil_001</td>\n",
       "      <td>1</td>\n",
       "      <td>0.5</td>\n",
       "      <td>1.0</td>\n",
       "      <td>2023-03-22_11h50.44.873</td>\n",
       "      <td>stress</td>\n",
       "      <td>2023.1.0</td>\n",
       "      <td>60.019975</td>\n",
       "      <td>NaN</td>\n",
       "    </tr>\n",
       "    <tr>\n",
       "      <th>3</th>\n",
       "      <td>3.0</td>\n",
       "      <td>1.0</td>\n",
       "      <td>5.0</td>\n",
       "      <td>0.0</td>\n",
       "      <td>2.0</td>\n",
       "      <td>4.0</td>\n",
       "      <td>4.0</td>\n",
       "      <td>0.0</td>\n",
       "      <td>0.0</td>\n",
       "      <td>6.0</td>\n",
       "      <td>...</td>\n",
       "      <td>NaN</td>\n",
       "      <td>pil_001</td>\n",
       "      <td>1</td>\n",
       "      <td>0.5</td>\n",
       "      <td>1.0</td>\n",
       "      <td>2023-03-22_11h50.44.873</td>\n",
       "      <td>stress</td>\n",
       "      <td>2023.1.0</td>\n",
       "      <td>60.019975</td>\n",
       "      <td>NaN</td>\n",
       "    </tr>\n",
       "    <tr>\n",
       "      <th>4</th>\n",
       "      <td>3.0</td>\n",
       "      <td>2.0</td>\n",
       "      <td>5.0</td>\n",
       "      <td>1.0</td>\n",
       "      <td>4.0</td>\n",
       "      <td>0.0</td>\n",
       "      <td>4.0</td>\n",
       "      <td>3.0</td>\n",
       "      <td>0.0</td>\n",
       "      <td>6.0</td>\n",
       "      <td>...</td>\n",
       "      <td>NaN</td>\n",
       "      <td>pil_001</td>\n",
       "      <td>1</td>\n",
       "      <td>0.5</td>\n",
       "      <td>1.0</td>\n",
       "      <td>2023-03-22_11h50.44.873</td>\n",
       "      <td>stress</td>\n",
       "      <td>2023.1.0</td>\n",
       "      <td>60.019975</td>\n",
       "      <td>NaN</td>\n",
       "    </tr>\n",
       "  </tbody>\n",
       "</table>\n",
       "<p>5 rows × 36 columns</p>\n",
       "</div>"
      ],
      "text/plain": [
       "   pos1  pos2  pos3  pos4  pos5  pos6  shape1  shape2  shape3  shape4  ...  \\\n",
       "0   5.0   4.0   2.0   3.0   1.0   0.0     4.0     5.0     3.0     0.0  ...   \n",
       "1   5.0   0.0   3.0   1.0   4.0   2.0     4.0     6.0     5.0     0.0  ...   \n",
       "2   5.0   4.0   1.0   0.0   3.0   2.0     4.0     6.0     0.0     5.0  ...   \n",
       "3   3.0   1.0   5.0   0.0   2.0   4.0     4.0     0.0     0.0     6.0  ...   \n",
       "4   3.0   2.0   5.0   1.0   4.0   0.0     4.0     3.0     0.0     6.0  ...   \n",
       "\n",
       "   end_key.rt  participant  session  distractor_prevalence  validity  \\\n",
       "0         NaN      pil_001        1                    0.5       1.0   \n",
       "1         NaN      pil_001        1                    0.5       1.0   \n",
       "2         NaN      pil_001        1                    0.5       1.0   \n",
       "3         NaN      pil_001        1                    0.5       1.0   \n",
       "4         NaN      pil_001        1                    0.5       1.0   \n",
       "\n",
       "                      date  expName  psychopyVersion  frameRate  Unnamed: 35  \n",
       "0  2023-03-22_11h50.44.873   stress         2023.1.0  60.019975          NaN  \n",
       "1  2023-03-22_11h50.44.873   stress         2023.1.0  60.019975          NaN  \n",
       "2  2023-03-22_11h50.44.873   stress         2023.1.0  60.019975          NaN  \n",
       "3  2023-03-22_11h50.44.873   stress         2023.1.0  60.019975          NaN  \n",
       "4  2023-03-22_11h50.44.873   stress         2023.1.0  60.019975          NaN  \n",
       "\n",
       "[5 rows x 36 columns]"
      ]
     },
     "execution_count": 1,
     "metadata": {},
     "output_type": "execute_result"
    }
   ],
   "source": [
    "# import data analysis libraries\n",
    "import pandas as pd\n",
    "import numpy as np\n",
    "import matplotlib.pyplot as plt\n",
    "import seaborn as sns\n",
    "import os\n",
    "import glob\n",
    "\n",
    "# scan the current folder for csv files, and loop through them in order to import them using read_csv\n",
    "# then conctaenate them into one dataframe\n",
    "path = os.getcwd()\n",
    "# list all files with csv extension\n",
    "files_csv = glob.glob(os.path.join(path, \"*.csv\"))\n",
    "raw = pd.concat([pd.read_csv(f) for f in files_csv], ignore_index = True)\n",
    "raw.head()"
   ]
  },
  {
   "attachments": {},
   "cell_type": "markdown",
   "metadata": {},
   "source": [
    "## 1. accuracy analysis"
   ]
  },
  {
   "cell_type": "code",
   "execution_count": 15,
   "metadata": {},
   "outputs": [
    {
     "name": "stdout",
     "output_type": "stream",
     "text": [
      "   participant  distractor_prevalence  singleton  search_response.corr\n",
      "0      pil_001                    0.5        0.0              0.963333\n",
      "1      pil_001                    0.5        1.0              0.963333\n",
      "2      pil_001                    0.9        0.0              1.000000\n",
      "3      pil_001                    0.9        1.0              0.958333\n",
      "4      pil_002                    0.5        0.0              0.990000\n",
      "5      pil_002                    0.5        1.0              0.955000\n",
      "6      pil_002                    0.9        0.0              1.000000\n",
      "7      pil_002                    0.9        1.0              0.977778\n",
      "8      pil_003                    0.5        0.0              0.985000\n",
      "9      pil_003                    0.5        1.0              0.970000\n",
      "10     pil_003                    0.9        0.0              1.000000\n",
      "11     pil_003                    0.9        1.0              0.983333\n",
      "12     pil_004                    0.5        0.0              0.995000\n",
      "13     pil_004                    0.5        1.0              0.990000\n",
      "14     pil_004                    0.9        0.0              0.950000\n",
      "15     pil_004                    0.9        1.0              0.988889\n"
     ]
    },
    {
     "data": {
      "image/png": "[encoded data removed]",
      "text/plain": [
       "<Figure size 640x480 with 1 Axes>"
      ]
     },
     "metadata": {},
     "output_type": "display_data"
    }
   ],
   "source": [
    "# calculate the mean accuracy for each participant for the singleton present vs. absent (1, 0) based on search_response.corr\n",
    "# and show mean accuracy for each participant\n",
    "m_accuracy = raw.groupby(['participant', 'distractor_prevalence','singleton'])['search_response.corr'].mean().reset_index()\n",
    "#print(m_accuracy)\n",
    "# draw a barplot to show the mean accuracy for each participant, separated by singleton present vs. absent (1,0), and distractor prevalence\n",
    "sns.barplot(x='participant', y='search_response.corr', hue='singleton', data=m_accuracy.query('distractor_prevalence == 0.5'))\n",
    "# set the y-axis limit to 0.8 to 1.0\n",
    "plt.ylim(0.8, 1.0)\n",
    "plt.show()"
   ]
  },
  {
   "cell_type": "code",
   "execution_count": 16,
   "metadata": {},
   "outputs": [
    {
     "data": {
      "image/png": "[encoded data removed]",
      "text/plain": [
       "<Figure size 640x480 with 1 Axes>"
      ]
     },
     "metadata": {},
     "output_type": "display_data"
    }
   ],
   "source": [
    "# singleton prevalence = 0.9\n",
    "sns.barplot(x='participant', y='search_response.corr', hue='singleton', data=m_accuracy.query('distractor_prevalence == 0.9'))\n",
    "# set the y-axis limit to 0.8 to 1.0\n",
    "plt.ylim(0.8, 1.0)\n",
    "plt.show()"
   ]
  },
  {
   "attachments": {},
   "cell_type": "markdown",
   "metadata": {},
   "source": [
    "Summary: in general, the accuracy is high for both distractor prevalence, above 95% for all participants. Thus, we can focus on the RT analysis.\n",
    "\n",
    "## 2. RT analysis"
   ]
  },
  {
   "attachments": {},
   "cell_type": "markdown",
   "metadata": {},
   "source": [
    "First to check extreme RTs using histogram. "
   ]
  },
  {
   "cell_type": "code",
   "execution_count": 36,
   "metadata": {},
   "outputs": [
    {
     "data": {
      "text/plain": [
       "<AxesSubplot:>"
      ]
     },
     "execution_count": 36,
     "metadata": {},
     "output_type": "execute_result"
    },
    {
     "data": {
      "image/png": "[encoded data removed]",
      "text/plain": [
       "<Figure size 640x480 with 1 Axes>"
      ]
     },
     "metadata": {},
     "output_type": "display_data"
    }
   ],
   "source": [
    "raw['search_response.rt'].hist(bins=30)"
   ]
  },
  {
   "cell_type": "code",
   "execution_count": 42,
   "metadata": {},
   "outputs": [
    {
     "data": {
      "text/html": [
       "<div>\n",
       "<style scoped>\n",
       "    .dataframe tbody tr th:only-of-type {\n",
       "        vertical-align: middle;\n",
       "    }\n",
       "\n",
       "    .dataframe tbody tr th {\n",
       "        vertical-align: top;\n",
       "    }\n",
       "\n",
       "    .dataframe thead th {\n",
       "        text-align: right;\n",
       "    }\n",
       "</style>\n",
       "<table border=\"1\" class=\"dataframe\">\n",
       "  <thead>\n",
       "    <tr style=\"text-align: right;\">\n",
       "      <th></th>\n",
       "      <th>distractor_prevalence</th>\n",
       "      <th>participant</th>\n",
       "      <th>rt_absent</th>\n",
       "      <th>rt_present</th>\n",
       "      <th>interference</th>\n",
       "    </tr>\n",
       "  </thead>\n",
       "  <tbody>\n",
       "    <tr>\n",
       "      <th>0</th>\n",
       "      <td>0.5</td>\n",
       "      <td>pil_001</td>\n",
       "      <td>0.990604</td>\n",
       "      <td>0.979293</td>\n",
       "      <td>-11.310174</td>\n",
       "    </tr>\n",
       "    <tr>\n",
       "      <th>1</th>\n",
       "      <td>0.5</td>\n",
       "      <td>pil_002</td>\n",
       "      <td>1.064992</td>\n",
       "      <td>0.969596</td>\n",
       "      <td>-95.395802</td>\n",
       "    </tr>\n",
       "    <tr>\n",
       "      <th>2</th>\n",
       "      <td>0.5</td>\n",
       "      <td>pil_003</td>\n",
       "      <td>1.366632</td>\n",
       "      <td>1.377311</td>\n",
       "      <td>10.678835</td>\n",
       "    </tr>\n",
       "    <tr>\n",
       "      <th>3</th>\n",
       "      <td>0.5</td>\n",
       "      <td>pil_004</td>\n",
       "      <td>1.100284</td>\n",
       "      <td>1.083084</td>\n",
       "      <td>-17.200080</td>\n",
       "    </tr>\n",
       "    <tr>\n",
       "      <th>4</th>\n",
       "      <td>0.9</td>\n",
       "      <td>pil_001</td>\n",
       "      <td>0.923559</td>\n",
       "      <td>0.916487</td>\n",
       "      <td>-7.071895</td>\n",
       "    </tr>\n",
       "    <tr>\n",
       "      <th>5</th>\n",
       "      <td>0.9</td>\n",
       "      <td>pil_002</td>\n",
       "      <td>1.342615</td>\n",
       "      <td>1.231548</td>\n",
       "      <td>-111.067403</td>\n",
       "    </tr>\n",
       "    <tr>\n",
       "      <th>6</th>\n",
       "      <td>0.9</td>\n",
       "      <td>pil_003</td>\n",
       "      <td>1.069841</td>\n",
       "      <td>1.206411</td>\n",
       "      <td>136.570691</td>\n",
       "    </tr>\n",
       "    <tr>\n",
       "      <th>7</th>\n",
       "      <td>0.9</td>\n",
       "      <td>pil_004</td>\n",
       "      <td>1.055826</td>\n",
       "      <td>1.222392</td>\n",
       "      <td>166.566719</td>\n",
       "    </tr>\n",
       "  </tbody>\n",
       "</table>\n",
       "</div>"
      ],
      "text/plain": [
       "   distractor_prevalence participant  rt_absent  rt_present  interference\n",
       "0                    0.5     pil_001   0.990604    0.979293    -11.310174\n",
       "1                    0.5     pil_002   1.064992    0.969596    -95.395802\n",
       "2                    0.5     pil_003   1.366632    1.377311     10.678835\n",
       "3                    0.5     pil_004   1.100284    1.083084    -17.200080\n",
       "4                    0.9     pil_001   0.923559    0.916487     -7.071895\n",
       "5                    0.9     pil_002   1.342615    1.231548   -111.067403\n",
       "6                    0.9     pil_003   1.069841    1.206411    136.570691\n",
       "7                    0.9     pil_004   1.055826    1.222392    166.566719"
      ]
     },
     "execution_count": 42,
     "metadata": {},
     "output_type": "execute_result"
    }
   ],
   "source": [
    "# from the raw data, filter out search_response.corr == 1, and group by participant, distractor_prevalence, singleton, for search_response.rt\n",
    "# then calculate the mean search_response.rt for each participant, distractor_prevalence, singleton\n",
    "# and show mean search_response.rt for each participant\n",
    "m_rt = raw.query('`search_response.corr` == 1 and `search_response.rt` > .2 and `search_response.rt` < 2.5').groupby(\n",
    "    [ 'distractor_prevalence','participant','singleton']).agg(\n",
    "        {'search_response.rt': 'mean'}).unstack(level=2).reset_index()\n",
    "#m_rt\n",
    "# spread m_rt based on singleton, and reset the index\n",
    "# rename the columns\n",
    "m_rt.columns = [ 'distractor_prevalence','participant', 'rt_absent', 'rt_present']\n",
    "# calculate the difference between rt_present and rt_absent, and add it as a new column as interference\n",
    "m_rt['interference'] = (m_rt['rt_present'] - m_rt['rt_absent'])*1000 # convert to ms\n",
    "m_rt"
   ]
  },
  {
   "attachments": {},
   "cell_type": "markdown",
   "metadata": {},
   "source": [
    "Summary: interferences are stronger in the 0.9 distractor prevalence condition.\n"
   ]
  },
  {
   "cell_type": "code",
   "execution_count": 43,
   "metadata": {},
   "outputs": [
    {
     "data": {
      "image/png": "[encoded data removed]",
      "text/plain": [
       "<Figure size 640x480 with 1 Axes>"
      ]
     },
     "metadata": {},
     "output_type": "display_data"
    }
   ],
   "source": [
    "# visualize interference for two distractor prevalences from m_rt\n",
    "sns.barplot(x='participant', y='interference', hue='distractor_prevalence', data=m_rt)\n",
    "plt.show()"
   ]
  }
 ],
 "metadata": {
  "kernelspec": {
   "display_name": "base",
   "language": "python",
   "name": "python3"
  },
  "language_info": {
   "codemirror_mode": {
    "name": "ipython",
    "version": 3
   },
   "file_extension": ".py",
   "mimetype": "text/x-python",
   "name": "python",
   "nbconvert_exporter": "python",
   "pygments_lexer": "ipython3",
   "version": "3.9.5"
  },
  "orig_nbformat": 4
 },
 "nbformat": 4,
 "nbformat_minor": 2
}
